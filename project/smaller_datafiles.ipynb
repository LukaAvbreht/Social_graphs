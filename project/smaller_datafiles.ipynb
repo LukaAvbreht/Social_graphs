{
 "cells": [
  {
   "cell_type": "code",
   "execution_count": 109,
   "metadata": {},
   "outputs": [],
   "source": [
    "import numpy as np\n",
    "import pandas as pd\n",
    "import warnings\n",
    "import ast"
   ]
  },
  {
   "cell_type": "code",
   "execution_count": 110,
   "metadata": {},
   "outputs": [
    {
     "data": {
      "text/plain": [
       "17419"
      ]
     },
     "execution_count": 16,
     "metadata": {},
     "output_type": "execute_result"
    }
   ],
   "source": [
    "director_popularity = pd.read_csv('../../director_popularity.csv', encoding ='utf-8')\n",
    "len(director_popularity.index)"
   ]
  },
  {
   "cell_type": "code",
   "execution_count": 121,
   "metadata": {},
   "outputs": [],
   "source": [
    "# only directors with a vote count over 500\n",
    "director_popularity_small = director_popularity.loc[director_popularity['vote_count'] >= 1500]\n",
    "\n",
    "# get all movies from these directors\n",
    "l = list(director_popularity_small['work'])\n",
    "movies = []\n",
    "for sublist in l:\n",
    "    sublist = ast.literal_eval(sublist)\n",
    "    for item in sublist:\n",
    "        movies.append(item)\n"
   ]
  },
  {
   "cell_type": "code",
   "execution_count": 122,
   "metadata": {},
   "outputs": [
    {
     "data": {
      "text/plain": [
       "5655"
      ]
     },
     "execution_count": 122,
     "metadata": {},
     "output_type": "execute_result"
    }
   ],
   "source": [
    "len(movies)"
   ]
  },
  {
   "cell_type": "code",
   "execution_count": 123,
   "metadata": {},
   "outputs": [],
   "source": [
    "# get relevant rows from movies metadata\n",
    "metadata = pd.read_csv('../../the-movies-dataset/movies_metadata.csv', encoding ='utf-8')\n",
    "str_list = [str(i) for i in movies] \n",
    "metadata_small = metadata.loc[metadata['id'].isin(str_list)]"
   ]
  },
  {
   "cell_type": "code",
   "execution_count": 124,
   "metadata": {},
   "outputs": [],
   "source": [
    "# get relevant rows from ratings\n",
    "ratings = pd.read_csv('./../../the-movies-dataset/ratings.csv', encoding ='utf-8')\n",
    "warnings.filterwarnings(action='once')\n",
    "ratings_small = ratings.loc[ratings['movieId'].isin(movies)]"
   ]
  },
  {
   "cell_type": "code",
   "execution_count": 125,
   "metadata": {},
   "outputs": [],
   "source": [
    "# get relevant rows from credits\n",
    "credits = pd.read_csv('./../../the-movies-dataset/credits.csv', encoding ='utf-8')\n",
    "credits_small = credits.loc[credits['id'].isin(movies)]"
   ]
  },
  {
   "cell_type": "code",
   "execution_count": 126,
   "metadata": {},
   "outputs": [],
   "source": [
    "# save to files\n",
    "metadata_small.to_csv('../../smaller_dataset/movies_metadata_short.csv')\n",
    "ratings_small.to_csv('../../smaller_dataset/ratings_short.csv')\n",
    "credits_small.to_csv('../../smaller_dataset/credits_short.csv')"
   ]
  },
  {
   "cell_type": "code",
   "execution_count": null,
   "metadata": {},
   "outputs": [],
   "source": []
  }
 ],
 "metadata": {
  "kernelspec": {
   "display_name": "Python 3",
   "language": "python",
   "name": "python3"
  },
  "language_info": {
   "codemirror_mode": {
    "name": "ipython",
    "version": 3
   },
   "file_extension": ".py",
   "mimetype": "text/x-python",
   "name": "python",
   "nbconvert_exporter": "python",
   "pygments_lexer": "ipython3",
   "version": "3.7.3"
  }
 },
 "nbformat": 4,
 "nbformat_minor": 2
}
