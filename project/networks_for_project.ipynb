{
 "cells": [
  {
   "cell_type": "code",
   "execution_count": 213,
   "metadata": {},
   "outputs": [],
   "source": [
    "import networkx as nx\n",
    "import numpy as np\n",
    "import pandas as pd\n",
    "import re\n",
    "import io\n",
    "import matplotlib.pylab as plt\n",
    "from fa2 import ForceAtlas2\n",
    "import json\n",
    "import ast\n",
    "from collections import Counter\n",
    "import pickle"
   ]
  },
  {
   "cell_type": "code",
   "execution_count": 214,
   "metadata": {},
   "outputs": [],
   "source": [
    "import time, sys\n",
    "from IPython.display import clear_output\n",
    "\n",
    "#Progress bar\n",
    "def update_progress(progress):\n",
    "    bar_length = 20\n",
    "    if isinstance(progress, int):\n",
    "        progress = float(progress)\n",
    "    if not isinstance(progress, float):\n",
    "        progress = 0\n",
    "    if progress < 0:\n",
    "        progress = 0\n",
    "    if progress >= 1:\n",
    "        progress = 1\n",
    "\n",
    "    block = int(round(bar_length * progress))\n",
    "\n",
    "    clear_output(wait = True)\n",
    "    text = \"Progress: [{0}] {1:.1f}%\".format( \"#\" * block + \"-\" * (bar_length - block), progress * 100)\n",
    "    print(text)"
   ]
  },
  {
   "cell_type": "code",
   "execution_count": 215,
   "metadata": {},
   "outputs": [],
   "source": [
    "#Open movie data file\n",
    "df = pd.read_csv('./../../dataset/credits_short.csv', encoding ='utf-8')\n",
    "number_of_movies = len(df.index)"
   ]
  },
  {
   "cell_type": "code",
   "execution_count": 7,
   "metadata": {},
   "outputs": [],
   "source": [
    "def get_actors(movie_cast):\n",
    "    cast_list = []\n",
    "    for cast_object in movie_cast:\n",
    "        cast_list.append(cast_object['name'])\n",
    "    return cast_list\n",
    "\n",
    "\n",
    "def list_all_actors():\n",
    "    l = []\n",
    "    for i, movie_id in enumerate(df['id'], start = 0):\n",
    "        try:\n",
    "            cast = df.loc[df['id']==movie_id]['cast'].item()\n",
    "            cast_objects = ast.literal_eval(cast)\n",
    "            list_of_actors = get_actors(cast_objects)\n",
    "            l = l + list_of_actors\n",
    "        except:\n",
    "            pass\n",
    "    return l\n",
    "\n",
    "def list_actors_in_multiple_movies():\n",
    "    l = list_all_actors()\n",
    "    cnt = Counter(l)\n",
    "    return ([k for k, v in cnt.items() if v > 1])\n",
    "\n",
    "def get_director(movie_crew):\n",
    "    for crew_object in movie_crew:\n",
    "        if (crew_object['job'] == 'Director'):\n",
    "            return crew_object['name']"
   ]
  },
  {
   "cell_type": "code",
   "execution_count": 8,
   "metadata": {},
   "outputs": [
    {
     "name": "stdout",
     "output_type": "stream",
     "text": [
      "Progress: [####################] 100.0%\n"
     ]
    }
   ],
   "source": [
    "# Create director network where directors are connected if they employed the same actors\n",
    "# Warning! Takes forever to run!\n",
    "directors_network = nx.Graph()\n",
    "directors_errors = []\n",
    "\n",
    "for i, movie_id in enumerate(df['id'], start = 0):\n",
    "    update_progress(i / number_of_movies)\n",
    "    try:\n",
    "        \n",
    "        # get cast\n",
    "        cast = df.loc[df['id']==movie_id]['cast'].item()\n",
    "        cast_objects = ast.literal_eval(cast)\n",
    "        list_of_actors = get_actors(cast_objects)\n",
    "        \n",
    "        # get director\n",
    "        crew = df.loc[df['id']==movie_id]['crew'].item()\n",
    "        crew_object = ast.literal_eval(crew)\n",
    "        director = get_director(crew_object)\n",
    "        # add director to network\n",
    "        if not director in directors_network:\n",
    "            directors_network.add_node(director)\n",
    "        # find movies who share at least one actor \n",
    "        # we only run the loop though movies that we have not already used, \n",
    "        # as these will already be in the graph\n",
    "        for other_movie in df['id'][i+1:]:\n",
    "            try:\n",
    "                cast_other_movie = df.loc[df['id']==other_movie]['cast'].item()\n",
    "                cast_objects_other_movie = ast.literal_eval(cast_other_movie)\n",
    "                actors = get_actors(cast_objects_other_movie)\n",
    "                \n",
    "                other_crew = df.loc[df['id']==other_movie]['crew'].item()\n",
    "                other_crew_object = ast.literal_eval(other_crew)\n",
    "                other_director = get_director(other_crew_object)\n",
    "                # if there are actors in common\n",
    "                if (set(list_of_actors) & set(actors) and director != other_director):\n",
    "                    if not other_director in directors_network:\n",
    "                        directors_network.add_node(other_director)\n",
    "                    # if edge exists, then update weight\n",
    "                    if (directors_network.has_edge(other_director, director)):\n",
    "                        directors_network[other_director][director]['weight'] += 1\n",
    "                        directors_network[other_director][director]['movies'].append((movie_id,other_movie, set(list_of_actors) & set(actors)))\n",
    "                    # otherwise add edge\n",
    "                    else:\n",
    "                        directors_network.add_edge(other_director, director, weight=1)\n",
    "                        directors_network[other_director][director]['movies']=[(movie_id,other_movie, set(list_of_actors) & set(actors))]\n",
    "            except:\n",
    "                directors_errors.append(['error in other movie with id: '+ (other_movie)])\n",
    "    except:\n",
    "        directors_errors.append(['error in movie with id: '+ str(movie_id)])\n",
    "update_progress(1)"
   ]
  },
  {
   "cell_type": "code",
   "execution_count": 212,
   "metadata": {},
   "outputs": [
    {
     "data": {
      "text/plain": [
       "{('John Lasseter', 'Martin Scorsese'): [(862, 524, {'Don Rickles'})],\n",
       " ('John Lasseter', 'Mike Figgis'): [(862, 451, {'Laurie Metcalf'})],\n",
       " ('Martin Scorsese', 'Howard Deutch'): [(15602, 524, {'Kevin Pollak'})],\n",
       " ('Martin Scorsese',\n",
       "  'Michael Mann'): [(949, 524, {'Paul Herman', 'Robert De Niro'})],\n",
       " ('Martin Scorsese', 'Oliver Stone'): [(10858, 524, {'James Woods'})],\n",
       " ('Mike Figgis', 'Mel Brooks'): [(12110, 451, {'Steven Weber'})],\n",
       " ('Mike Figgis', 'Allison Anders'): [(5, 451, {'Valeria Golino'})],\n",
       " ('Michael Mann', 'Barry Sonnenfeld'): [(949, 8012, {'Martin Ferrero'})],\n",
       " ('Michael Mann', 'Jean-Jacques Annaud'): [(949, 78802, {'Val Kilmer'})],\n",
       " ('Barry Sonnenfeld', 'Rob Reiner'): [(9087, 8012, {'David Paymer'})],\n",
       " ('Barry Sonnenfeld', 'Oliver Stone'): [(10858, 8012, {'David Paymer'})],\n",
       " ('Peter Hyams', 'Oliver Stone'): [(9091, 10858, {'Powers Boothe'})],\n",
       " ('Oliver Stone', 'Rob Reiner'): [(9087, 10858, {'David Paymer'})],\n",
       " ('Oliver Stone', 'Simon Wells'): [(21032, 10858, {'Bob Hoskins'})],\n",
       " ('Oliver Stone', 'Victor Salva'): [(10858, 12665, {'Mary Steenburgen'})],\n",
       " ('Allison Anders', 'Richard Donner'): [(5, 9691, {'Antonio Banderas'})],\n",
       " ('Allison Anders', 'Terry Gilliam'): [(5, 63, {'Bruce Willis'})]}"
      ]
     },
     "execution_count": 212,
     "metadata": {},
     "output_type": "execute_result"
    }
   ],
   "source": [
    "nx.get_edge_attributes(directors_network,'movies')"
   ]
  },
  {
   "cell_type": "code",
   "execution_count": 9,
   "metadata": {},
   "outputs": [],
   "source": [
    "nx.write_gpickle(directors_network,\"popular_directors_network.gpickle\")"
   ]
  },
  {
   "cell_type": "code",
   "execution_count": 26,
   "metadata": {},
   "outputs": [
    {
     "name": "stderr",
     "output_type": "stream",
     "text": [
      "/Users/marita/anaconda3/lib/python3.7/site-packages/networkx/drawing/nx_pylab.py:579: MatplotlibDeprecationWarning: \n",
      "The iterable function was deprecated in Matplotlib 3.1 and will be removed in 3.3. Use np.iterable instead.\n",
      "  if not cb.iterable(width):\n"
     ]
    },
    {
     "data": {
      "image/png": "[encoded data removed]",
      "text/plain": [
       "<Figure size 432x288 with 1 Axes>"
      ]
     },
     "metadata": {},
     "output_type": "display_data"
    }
   ],
   "source": [
    "#options = {'node_color': 'black',  \n",
    "#           'node_size': 20,\n",
    "#           'width': 1,}\n",
    "#nx.draw_spring(directors_network, **options)"
   ]
  }
 ],
 "metadata": {
  "kernelspec": {
   "display_name": "Python 3",
   "language": "python",
   "name": "python3"
  },
  "language_info": {
   "codemirror_mode": {
    "name": "ipython",
    "version": 3
   },
   "file_extension": ".py",
   "mimetype": "text/x-python",
   "name": "python",
   "nbconvert_exporter": "python",
   "pygments_lexer": "ipython3",
   "version": "3.7.4"
  }
 },
 "nbformat": 4,
 "nbformat_minor": 2
}
