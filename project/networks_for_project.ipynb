{
 "cells": [
  {
   "cell_type": "code",
   "execution_count": 2,
   "metadata": {},
   "outputs": [],
   "source": [
    "import networkx as nx\n",
    "import numpy as np\n",
    "import pandas as pd\n",
    "import re\n",
    "import io\n",
    "import matplotlib.pylab as plt\n",
    "from fa2 import ForceAtlas2\n",
    "import json\n",
    "import ast\n",
    "from collections import Counter\n",
    "import pickle"
   ]
  },
  {
   "cell_type": "code",
   "execution_count": 3,
   "metadata": {},
   "outputs": [],
   "source": [
    "#Open movie data file\n",
    "df = pd.read_csv('./../../the-movies-dataset-short/credits_short.csv', encoding ='utf-8')\n",
    "number_of_movies = len(df.index)"
   ]
  },
  {
   "cell_type": "code",
   "execution_count": 4,
   "metadata": {},
   "outputs": [],
   "source": [
    "def get_actors(movie_cast):\n",
    "    cast_list = []\n",
    "    for cast_object in movie_cast:\n",
    "        cast_list.append(cast_object['name'])\n",
    "    return cast_list\n",
    "\n",
    "\n",
    "def list_all_actors():\n",
    "    l = []\n",
    "    for i, movie_id in enumerate(df['id'], start = 0):\n",
    "        try:\n",
    "            cast = df.loc[df['id']==movie_id]['cast'].item()\n",
    "            cast_objects = ast.literal_eval(cast)\n",
    "            list_of_actors = get_actors(cast_objects)\n",
    "            l = l + list_of_actors\n",
    "        except:\n",
    "            pass\n",
    "    return l\n",
    "\n",
    "def list_actors_in_multiple_movies():\n",
    "    l = list_all_actors()\n",
    "    cnt = Counter(l)\n",
    "    return ([k for k, v in cnt.items() if v > 1])\n",
    "\n",
    "def get_director(movie_crew):\n",
    "    for crew_object in movie_crew:\n",
    "        if (crew_object['job'] == 'Director'):\n",
    "            return crew_object['name']"
   ]
  },
  {
   "cell_type": "code",
   "execution_count": 5,
   "metadata": {},
   "outputs": [
    {
     "name": "stdout",
     "output_type": "stream",
     "text": [
      "0.0% done\n"
     ]
    },
    {
     "name": "stderr",
     "output_type": "stream",
     "text": [
      "C:\\Users\\pauli\\Anaconda3\\lib\\site-packages\\ipykernel_launcher.py:10: FutureWarning: `item` has been deprecated and will be removed in a future version\n",
      "  # Remove the CWD from sys.path while we load stuff.\n",
      "C:\\Users\\pauli\\Anaconda3\\lib\\site-packages\\ipykernel_launcher.py:15: FutureWarning: `item` has been deprecated and will be removed in a future version\n",
      "  from ipykernel import kernelapp as app\n",
      "C:\\Users\\pauli\\Anaconda3\\lib\\site-packages\\ipykernel_launcher.py:26: FutureWarning: `item` has been deprecated and will be removed in a future version\n",
      "C:\\Users\\pauli\\Anaconda3\\lib\\site-packages\\ipykernel_launcher.py:30: FutureWarning: `item` has been deprecated and will be removed in a future version\n"
     ]
    },
    {
     "name": "stdout",
     "output_type": "stream",
     "text": [
      "2.0% done\n",
      "4.0% done\n",
      "6.0% done\n",
      "8.0% done\n",
      "10.0% done\n",
      "12.0% done\n",
      "14.000000000000002% done\n",
      "16.0% done\n",
      "18.0% done\n",
      "20.0% done\n",
      "22.0% done\n",
      "24.0% done\n",
      "26.0% done\n",
      "28.000000000000004% done\n",
      "30.0% done\n",
      "32.0% done\n",
      "34.0% done\n",
      "36.0% done\n",
      "38.0% done\n",
      "40.0% done\n",
      "42.0% done\n",
      "44.0% done\n",
      "46.0% done\n",
      "48.0% done\n",
      "50.0% done\n",
      "52.0% done\n",
      "54.0% done\n",
      "56.00000000000001% done\n",
      "57.99999999999999% done\n",
      "60.0% done\n",
      "62.0% done\n",
      "64.0% done\n",
      "66.0% done\n",
      "68.0% done\n",
      "70.0% done\n",
      "72.0% done\n",
      "74.0% done\n",
      "76.0% done\n",
      "78.0% done\n",
      "80.0% done\n",
      "82.0% done\n",
      "84.0% done\n",
      "86.0% done\n",
      "88.0% done\n",
      "90.0% done\n",
      "92.0% done\n",
      "94.0% done\n",
      "96.0% done\n",
      "98.0% done\n"
     ]
    }
   ],
   "source": [
    "# Create director network where directors are connected if they employed the same actors\n",
    "# Warning! Takes forever to run!\n",
    "directors_network = nx.Graph()\n",
    "directors_errors = []\n",
    "for i, movie_id in enumerate(df['id'], start = 0):\n",
    "    if not i % 100: \n",
    "        print (str((i/number_of_movies)*100) +'% done')\n",
    "    try:\n",
    "        # get cast\n",
    "        cast = df.loc[df['id']==movie_id]['cast'].item()\n",
    "        cast_objects = ast.literal_eval(cast)\n",
    "        list_of_actors = get_actors(cast_objects)\n",
    "        \n",
    "        # get director\n",
    "        crew = df.loc[df['id']==movie_id]['crew'].item()\n",
    "        crew_object = ast.literal_eval(crew)\n",
    "        director = get_director(crew_object)\n",
    "        # add director to network\n",
    "        if not director in directors_network:\n",
    "            directors_network.add_node(director)\n",
    "        # find movies who share at least one actor \n",
    "        # we only run the loop though movies that we have not already used, \n",
    "        # as these will already be in the graph\n",
    "        for other_movie in df['id']:\n",
    "            try:\n",
    "                cast_other_movie = df.loc[df['id']==other_movie]['cast'].item()\n",
    "                cast_objects_other_movie = ast.literal_eval(cast_other_movie)\n",
    "                actors = get_actors(cast_objects_other_movie)\n",
    "                \n",
    "                other_crew = df.loc[df['id']==other_movie]['crew'].item()\n",
    "                crew_object = ast.literal_eval(other_crew)\n",
    "                other_director = get_director(crew_object)\n",
    "                # if there are actors in common\n",
    "                if (set(list_of_actors) & set(actors) and director != other_director):\n",
    "                    if not other_director in directors_network:\n",
    "                        directors_network.add_node(other_director)\n",
    "                    # if edge exists, then update weight\n",
    "                    if (directors_network.has_edge(other_director, director)):\n",
    "                        directors_network[other_director][director]['weight'] += 1\n",
    "                    # otherwise add edge\n",
    "                    else:\n",
    "                        directors_network.add_edge(other_director, director, weight=1)\n",
    "            except: \n",
    "                directors_errors.append(['error in other movie with id: '+ (other_movie)])\n",
    "    except:\n",
    "        directors_errors.append(['error in movie with id: '+ str(movie_id)])"
   ]
  },
  {
   "cell_type": "code",
   "execution_count": 9,
   "metadata": {},
   "outputs": [
    {
     "data": {
      "text/plain": [
       "87674"
      ]
     },
     "execution_count": 9,
     "metadata": {},
     "output_type": "execute_result"
    }
   ],
   "source": [
    "directors_network.number_of_edges()"
   ]
  },
  {
   "cell_type": "code",
   "execution_count": 8,
   "metadata": {},
   "outputs": [],
   "source": [
    "nx.write_gpickle(directors_network,\"directors_network.gpickle\")"
   ]
  },
  {
   "cell_type": "code",
   "execution_count": 47,
   "metadata": {},
   "outputs": [
    {
     "data": {
      "image/png": "[encoded data removed]",
      "text/plain": [
       "<Figure size 432x288 with 1 Axes>"
      ]
     },
     "metadata": {},
     "output_type": "display_data"
    }
   ],
   "source": [
    "options = {'node_color': 'black',  \n",
    "           'node_size': 20,\n",
    "           'width': 1,}\n",
    "nx.draw_spring(directors_network, **options)"
   ]
  },
  {
   "cell_type": "code",
   "execution_count": 9,
   "metadata": {},
   "outputs": [
    {
     "name": "stdout",
     "output_type": "stream",
     "text": [
      "0.0% done\n",
      "2.0% done\n",
      "4.0% done\n",
      "6.0% done\n",
      "8.0% done\n",
      "10.0% done\n",
      "12.0% done\n",
      "14.000000000000002% done\n",
      "16.0% done\n",
      "18.0% done\n",
      "20.0% done\n",
      "22.0% done\n",
      "24.0% done\n",
      "26.0% done\n",
      "28.000000000000004% done\n",
      "30.0% done\n",
      "32.0% done\n",
      "34.0% done\n",
      "36.0% done\n",
      "38.0% done\n",
      "40.0% done\n",
      "42.0% done\n",
      "44.0% done\n",
      "46.0% done\n",
      "48.0% done\n",
      "50.0% done\n",
      "52.0% done\n",
      "54.0% done\n",
      "56.00000000000001% done\n",
      "57.99999999999999% done\n",
      "60.0% done\n",
      "62.0% done\n",
      "64.0% done\n",
      "66.0% done\n",
      "68.0% done\n",
      "70.0% done\n",
      "72.0% done\n",
      "74.0% done\n",
      "76.0% done\n",
      "78.0% done\n",
      "80.0% done\n",
      "82.0% done\n",
      "84.0% done\n",
      "86.0% done\n",
      "88.0% done\n",
      "90.0% done\n",
      "92.0% done\n",
      "94.0% done\n",
      "96.0% done\n",
      "98.0% done\n"
     ]
    }
   ],
   "source": [
    "actors_network = nx.Graph()\n",
    "actors_to_include = list_actors_in_multiple_movies()\n",
    "actors_errors = []\n",
    "for i, movie_id in enumerate(df['id'], start = 0):\n",
    "    if not i % 100: \n",
    "         print(str((i/number_of_movies)*100) +'% done')\n",
    "    try:\n",
    "        cast = df.loc[df['id']==movie_id]['cast'].item()\n",
    "        cast_objects = ast.literal_eval(cast)\n",
    "        list_of_actors = get_actors(cast_objects)\n",
    "        for index, actor1 in enumerate(list_of_actors,start = 0):\n",
    "            if True:#(actor1 in actors_to_include):\n",
    "                if not actor1 in actors_network: \n",
    "                    actors_network.add_node(actor1)\n",
    "                for actor2 in list_of_actors[index:]:\n",
    "                    if True:#(actor2 in actors_to_include):\n",
    "                        if not actor2 in actors_network: \n",
    "                            actors_network.add_node(actor2)\n",
    "                        # if edge exists, then update weight\n",
    "                        if (actors_network.has_edge(actor1, actor2)):\n",
    "                            actors_network[actor1][actor2]['weight'] += 1\n",
    "                        # otherwise add edge\n",
    "                        else:\n",
    "                            actors_network.add_edge(actor1, actor2, weight=1)\n",
    "    except:\n",
    "        actors_errors.append(['error in movie with id: '+ str(movie_id)])"
   ]
  },
  {
   "cell_type": "code",
   "execution_count": 12,
   "metadata": {},
   "outputs": [],
   "source": [
    "nx.write_gpickle(actors_network,\"all_actors_graph.gpickle\")"
   ]
  },
  {
   "cell_type": "code",
   "execution_count": 11,
   "metadata": {},
   "outputs": [
    {
     "data": {
      "text/plain": [
       "61278"
      ]
     },
     "execution_count": 11,
     "metadata": {},
     "output_type": "execute_result"
    }
   ],
   "source": [
    "actors_network.number_of_nodes() "
   ]
  },
  {
   "cell_type": "code",
   "execution_count": 6,
   "metadata": {},
   "outputs": [
    {
     "name": "stderr",
     "output_type": "stream",
     "text": [
      "/Users/marita/anaconda3/lib/python3.7/site-packages/networkx/drawing/nx_pylab.py:579: MatplotlibDeprecationWarning: \n",
      "The iterable function was deprecated in Matplotlib 3.1 and will be removed in 3.3. Use np.iterable instead.\n",
      "  if not cb.iterable(width):\n"
     ]
    },
    {
     "data": {
      "image/png": "[encoded data removed]",
      "text/plain": [
       "<Figure size 432x288 with 1 Axes>"
      ]
     },
     "metadata": {},
     "output_type": "display_data"
    }
   ],
   "source": [
    "options = {'node_color': 'black',  \n",
    "           'node_size': 10,\n",
    "           'width': 1,}\n",
    "nx.draw_spring(actors_network, **options)"
   ]
  },
  {
   "cell_type": "code",
   "execution_count": 7,
   "metadata": {},
   "outputs": [],
   "source": [
    "#directors_network = nx.Graph()\n",
    "#errors_directors = []\n",
    "#for i, movie_id in enumerate(df['id'], start = 0):\n",
    "#    if not i % 100: \n",
    "#         print(str((i/number_of_movies)*100) +'% done')\n",
    "#    try:\n",
    "#        crew = df.loc[df['id']==movie_id]['crew'].item()\n",
    "#        crew_objects = ast.literal_eval(crew)\n",
    "#        list_of_directors = get_directors(crew_objects)\n",
    "#        print(list_of_directors)\n",
    "#        for index, director1 in enumerate(list_of_directors,start = 0):\n",
    "#            if not director1 in directors_network: \n",
    "#                directors_network.add_node(director1)\n",
    "#            for directors2 in list_of_directors[index:]:\n",
    "#                if not directors2 in directors_network: \n",
    "#                    directors_network.add_node(directors2)\n",
    "#                directors_network.add_edge(directors1, directors2)\n",
    "#    except:\n",
    "#        errors_directors.append(['error in movie with id: '+ str(movie_id)])"
   ]
  }
 ],
 "metadata": {
  "kernelspec": {
   "display_name": "Python 3",
   "language": "python",
   "name": "python3"
  },
  "language_info": {
   "codemirror_mode": {
    "name": "ipython",
    "version": 3
   },
   "file_extension": ".py",
   "mimetype": "text/x-python",
   "name": "python",
   "nbconvert_exporter": "python",
   "pygments_lexer": "ipython3",
   "version": "3.7.3"
  }
 },
 "nbformat": 4,
 "nbformat_minor": 2
}
