{
 "cells": [
  {
   "cell_type": "code",
   "execution_count": 1,
   "metadata": {},
   "outputs": [],
   "source": [
    "import networkx as nx\n",
    "import numpy as np\n",
    "import pandas as pd\n",
    "import re\n",
    "import io\n",
    "import matplotlib.pylab as plt\n",
    "from fa2 import ForceAtlas2\n",
    "import json\n",
    "import ast\n",
    "from collections import Counter\n",
    "import pickle\n",
    "import time, sys\n",
    "from IPython.display import clear_output"
   ]
  },
  {
   "cell_type": "markdown",
   "metadata": {},
   "source": [
    "We will now create the network of directors. We do this by running through the credits data file, which contains information about directors and actors of each movie. "
   ]
  },
  {
   "cell_type": "code",
   "execution_count": 214,
   "metadata": {},
   "outputs": [],
   "source": [
    "# progress bar\n",
    "def update_progress(progress):\n",
    "    bar_length = 20\n",
    "    if isinstance(progress, int):\n",
    "        progress = float(progress)\n",
    "    if not isinstance(progress, float):\n",
    "        progress = 0\n",
    "    if progress < 0:\n",
    "        progress = 0\n",
    "    if progress >= 1:\n",
    "        progress = 1\n",
    "\n",
    "    block = int(round(bar_length * progress))\n",
    "\n",
    "    clear_output(wait = True)\n",
    "    text = \"Progress: [{0}] {1:.1f}%\".format( \"#\" * block + \"-\" * (bar_length - block), progress * 100)\n",
    "    print(text)"
   ]
  },
  {
   "cell_type": "code",
   "execution_count": 215,
   "metadata": {},
   "outputs": [],
   "source": [
    "# open credits data file\n",
    "df = pd.read_csv('./../../dataset/credits_short.csv', encoding ='utf-8')\n",
    "number_of_movies = len(df.index)"
   ]
  },
  {
   "cell_type": "code",
   "execution_count": 7,
   "metadata": {},
   "outputs": [],
   "source": [
    "# helper functions\n",
    "\n",
    "# get all actors of a movie\n",
    "def get_actors(movie_cast):\n",
    "    cast_list = []\n",
    "    # go though the cast list and append the actors name to the list\n",
    "    for cast_object in movie_cast:\n",
    "        cast_list.append(cast_object['name'])\n",
    "    return cast_list\n",
    "\n",
    "# get the director of a movie\n",
    "def get_director(movie_crew):\n",
    "    for crew_object in movie_crew:\n",
    "        # find the crew member which is the director\n",
    "        if (crew_object['job'] == 'Director'):\n",
    "            return crew_object['name']"
   ]
  },
  {
   "cell_type": "code",
   "execution_count": 8,
   "metadata": {},
   "outputs": [
    {
     "name": "stdout",
     "output_type": "stream",
     "text": [
      "Progress: [####################] 100.0%\n"
     ]
    }
   ],
   "source": [
    "# Create director network where directors are connected if they employed the same actors\n",
    "# Warning! Takes forever to run!\n",
    "# we do this in a try-except clause because there are a few movies where the director or cast is missing\n",
    "directors_network = nx.Graph()\n",
    "directors_errors = []\n",
    "\n",
    "for i, movie_id in enumerate(df['id'], start = 0):\n",
    "    update_progress(i / number_of_movies)\n",
    "    try:\n",
    "        \n",
    "        # get cast\n",
    "        cast = df.loc[df['id']==movie_id]['cast'].item()\n",
    "        cast_objects = ast.literal_eval(cast)\n",
    "        list_of_actors = get_actors(cast_objects)\n",
    "        \n",
    "        # get director\n",
    "        crew = df.loc[df['id']==movie_id]['crew'].item()\n",
    "        crew_object = ast.literal_eval(crew)\n",
    "        director = get_director(crew_object)\n",
    "        # add director to network\n",
    "        if not director in directors_network:\n",
    "            directors_network.add_node(director)\n",
    "        # find movies who share at least one actor \n",
    "        # we only run the loop though movies that we have not already used i.e. staring from i+1\n",
    "        for other_movie in df['id'][i+1:]:\n",
    "            try:\n",
    "                # get cast\n",
    "                cast_other_movie = df.loc[df['id']==other_movie]['cast'].item()\n",
    "                cast_objects_other_movie = ast.literal_eval(cast_other_movie)\n",
    "                actors = get_actors(cast_objects_other_movie)\n",
    "                \n",
    "                # get director\n",
    "                other_crew = df.loc[df['id']==other_movie]['crew'].item()\n",
    "                other_crew_object = ast.literal_eval(other_crew)\n",
    "                other_director = get_director(other_crew_object)\n",
    "                # if there are actors in common\n",
    "                if (set(list_of_actors) & set(actors) and director != other_director):\n",
    "                    if not other_director in directors_network:\n",
    "                        directors_network.add_node(other_director)\n",
    "                    # if edge exists, then update weight\n",
    "                    if (directors_network.has_edge(other_director, director)):\n",
    "                        directors_network[other_director][director]['weight'] += 1\n",
    "                        directors_network[other_director][director]['movies'].append((movie_id,other_movie, set(list_of_actors) & set(actors)))\n",
    "                    # otherwise add edge\n",
    "                    else:\n",
    "                        directors_network.add_edge(other_director, director, weight=1)\n",
    "                        directors_network[other_director][director]['movies']=[(movie_id,other_movie, set(list_of_actors) & set(actors))]\n",
    "            except:\n",
    "                directors_errors.append(['error in other movie with id: '+ (other_movie)])\n",
    "    except:\n",
    "        directors_errors.append(['error in movie with id: '+ str(movie_id)])\n",
    "update_progress(1)"
   ]
  },
  {
   "cell_type": "code",
   "execution_count": 64,
   "metadata": {},
   "outputs": [],
   "source": [
    "# add more attributes to the nodes \n",
    "# (we could of course have done this when we created the network too)\n",
    "\n",
    "#Read files\n",
    "director_popularity = pd.read_csv('../../director_popularity.csv', encoding ='utf-8')\n",
    "metadata = pd.read_csv('../../dataset/movies_metadata_short.csv', encoding ='utf-8')\n",
    "\n",
    "for node in directors_network.nodes():\n",
    "    # get director \n",
    "    movies = ast.literal_eval(director_popularity.loc[director_popularity['director']==node]['work'].item())\n",
    "    languages = []\n",
    "    genres = []\n",
    "    rating = (director_popularity.loc[director_popularity['director']==node]['vote_average'].item())\n",
    "    rating_count = (director_popularity.loc[director_popularity['director']==node]['vote_count'].item())\n",
    "    \n",
    "    for index, m in enumerate(movies, start = 0):\n",
    "        release_date = (metadata.loc[metadata['id']==m]['release_date'].item())\n",
    "        language = (metadata.loc[metadata['id']==m]['original_language'].item())\n",
    "        languages.append(language)\n",
    "        movie_genres = ast.literal_eval(metadata.loc[metadata['id']==m]['genres'].item())\n",
    "        list_of_genres = []\n",
    "        # get the names of each genre (they are originally saved as objects)\n",
    "        for g in movie_genres:\n",
    "            list_of_genres.append(g['name'])\n",
    "            \n",
    "        genres += list_of_genres\n",
    "        \n",
    "        # initialize first and last movie to release date\n",
    "        if index == 0:\n",
    "            first_movie = release_date\n",
    "            last_movie = release_date\n",
    "        else:\n",
    "            # update first and last movie if necessary \n",
    "            first_movie = min(first_movie, release_date)\n",
    "            last_movie = max(last_movie, release_date)\n",
    "        \n",
    "    directors_network.node[node]['first_movie']  = first_movie\n",
    "    directors_network.node[node]['last_movie'] = last_movie\n",
    "    directors_network.node[node]['languages']  = languages\n",
    "    directors_network.node[node]['genres']  = genres\n",
    "    directors_network.node[node]['movies']  = movies\n",
    "    directors_network.node[node]['rating']  = rating\n",
    "    directors_network.node[node]['rating_count']  = rating_count"
   ]
  },
  {
   "cell_type": "code",
   "execution_count": 65,
   "metadata": {},
   "outputs": [],
   "source": [
    "nx.write_gpickle(directors_network,\"popular_directors_network.gpickle\")"
   ]
  }
 ],
 "metadata": {
  "kernelspec": {
   "display_name": "Python 3",
   "language": "python",
   "name": "python3"
  },
  "language_info": {
   "codemirror_mode": {
    "name": "ipython",
    "version": 3
   },
   "file_extension": ".py",
   "mimetype": "text/x-python",
   "name": "python",
   "nbconvert_exporter": "python",
   "pygments_lexer": "ipython3",
   "version": "3.7.3"
  }
 },
 "nbformat": 4,
 "nbformat_minor": 2
}
