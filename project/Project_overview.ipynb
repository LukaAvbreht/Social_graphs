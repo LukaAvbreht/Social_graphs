{
 "cells": [
  {
   "cell_type": "markdown",
   "metadata": {},
   "source": [
    "# SOCIAL GRAPHS\n",
    "## Movies and what they tell us\n",
    "\n",
    "\n",
    "### The data\n",
    "In this project we are going to analyse a subset from The Movies Dataset from [Kaggle](https://www.kaggle.com/rounakbanik/the-movies-dataset#movies_metadata.csv) and the subtitles of the movies found on ???????. The original Movies Dataset consists of 6 files: \n",
    "\n",
    "- movies_metadata.csv: The main Movies Metadata file. Contains information on 45,000 movies featured in the Full MovieLens dataset. Features include posters, backdrops, budget, revenue, release dates, languages, production countries and companies.\n",
    "\n",
    "- keywords.csv: Contains the movie plot keywords for our MovieLens movies. Available in the form of a stringified JSON Object.\n",
    "\n",
    "- credits.csv: Consists of Cast and Crew Information for all our movies. Available in the form of a stringified JSON Object.\n",
    "\n",
    "- links.csv: The file that contains the TMDB and IMDB IDs of all the movies featured in the Full MovieLens dataset.\n",
    "\n",
    "- links_small.csv: Contains the TMDB and IMDB IDs of a small subset of 9,000 movies of the Full Dataset.\n",
    "\n",
    "- ratings_small.csv: The subset of 100,000 ratings from 700 users on 9,000 movies.\n",
    "\n",
    "We wanted to do something on movies because, who doesn't love movies? Movies are probably one of the top forms of entertainment around the globe. This is a subject that is very tangible and interesting to us, and therefor we wanted to do some analysis on this. We wanted some data that had a lot of movies in it to make sure that we would get the whole picture and not just some unknown subset. We also needed a dataset that had information on directors, actors, languages, genres, release data and rating for the movies. The Movies Dataset from Kaggle has all of this and is also very straightforward to download and get to work with. We chose to work on a subset of the data to make it easier to work with. More on this in the notebokk bellow. \n",
    "\n",
    "TODO How did we choose where to download the subtitles? \n",
    "\n",
    "\n",
    "### Goal"
   ]
  },
  {
   "cell_type": "markdown",
   "metadata": {},
   "source": [
    "### Notebooks\n",
    "\n",
    "\n",
    "### 1: [Creating the data files](https://nbviewer.jupyter.org/github/LukaAvbreht/Social_graphs/blob/master/project/data_creator.ipynb)\n",
    "\n",
    "### 2: [Network Analysis](https://nbviewer.jupyter.org/github/LukaAvbreht/Social_graphs/blob/master/project/network_analysis.ipynb)\n",
    "\n",
    "\n",
    "### 3: [Text Analysis]()\n",
    "\n"
   ]
  },
  {
   "cell_type": "markdown",
   "metadata": {},
   "source": [
    "### Discussion"
   ]
  },
  {
   "cell_type": "markdown",
   "metadata": {},
   "source": [
    "### Contributions"
   ]
  }
 ],
 "metadata": {
  "kernelspec": {
   "display_name": "Python 3",
   "language": "python",
   "name": "python3"
  },
  "language_info": {
   "codemirror_mode": {
    "name": "ipython",
    "version": 3
   },
   "file_extension": ".py",
   "mimetype": "text/x-python",
   "name": "python",
   "nbconvert_exporter": "python",
   "pygments_lexer": "ipython3",
   "version": "3.7.3"
  }
 },
 "nbformat": 4,
 "nbformat_minor": 2
}
