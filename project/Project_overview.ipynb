{
 "cells": [
  {
   "cell_type": "markdown",
   "metadata": {},
   "source": [
    "# SOCIAL GRAPHS\n",
    "## Movies and what they tell us\n",
    "\n",
    "In this project we are going to analyse a subset from The Movies Dataset from [Kaggle](https://www.kaggle.com/rounakbanik/the-movies-dataset#movies_metadata.csv) and the subtitles of the movies found on ???????. \n",
    "\n",
    "We wanted to do something on movies because, who doesn't love movies? Movies are probably one of the top forms of entertainment around the globe. This is a subject that is very tangible and interesting to us, and therefor we wanted to do some analysis on this. We wanted some data that had a lot of movies in it to make sure that we would get the whole picture and not just some unknown subset. We also needed a dataset that had information on directors, actors, languages, genres, release data and rating for the movies. The Movies Dataset from Kaggle has all of this and is also very straightforward to download and get to work with.\n",
    "\n",
    "TODO How did we choose where to download the subtitles? \n",
    "\n",
    "\n",
    "### Goal\n",
    "Our goal is to provide an overview of directors and how they link to each. We will create a network of directors where two directors are linked if they have hired any of the same actors. We want to find out what kind of network this is, who the most central directors are and whether there are any communities within it. On top of this we will analyse the subtitles for every movie of these directors. TODO what is the goal regarding text analysis?"
   ]
  },
  {
   "cell_type": "markdown",
   "metadata": {},
   "source": [
    "### About the data\n",
    "The original Movies Dataset consists of 6 files: \n",
    "\n",
    "- movies_metadata.csv: The main Movies Metadata file. Contains information on 45,000 movies featured in the Full MovieLens dataset. Features include posters, backdrops, budget, revenue, release dates, languages, production countries and companies.\n",
    "\n",
    "- keywords.csv: Contains the movie plot keywords for our MovieLens movies. Available in the form of a stringified JSON Object.\n",
    "\n",
    "- credits.csv: Consists of Cast and Crew Information for all our movies. Available in the form of a stringified JSON Object.\n",
    "\n",
    "- links.csv: The file that contains the TMDB and IMDB IDs of all the movies featured in the Full MovieLens dataset.\n",
    "\n",
    "- links_small.csv: Contains the TMDB and IMDB IDs of a small subset of 9,000 movies of the Full Dataset.\n",
    "\n",
    "- ratings_small.csv: The subset of 100,000 ratings from 700 users on 9,000 movies.\n",
    "\n",
    "The original dataset contains over 45.000 movies and we decided that this was an unnecessary amount of data for our purposes. We chose to work on a subset of the data to make it easier to work with. We wanted to make sure we included every \"known\" director so to speak. We did not care if we lost information about directors that for example have only created one movie or a few movies which did not receive high publicity. We decided to filter the directors based on how many votes or ratings they had gotten. The vote number for each movie is in the dataset, so it was a straightforward procedure to get the total vote count for each director. We decided to set the limit at 500 votes, i.e. only include directors that have received a total of over 500 votes. We chose 500 partly because that is a \"significant\" amount and because that would get our data size down to a more suitible size. \n",
    "\n",
    "Filtering the original data gave us a dataset of 10.605 movies and 1.273 directors. With this we created the network of directors which consists of 1.273 nodes and 217.725 edges. \n",
    "\n",
    "TODO something similar on the subtitle data"
   ]
  },
  {
   "cell_type": "markdown",
   "metadata": {},
   "source": [
    "### Notebooks\n",
    "\n",
    "\n",
    "### 1: [Creating the data files](https://nbviewer.jupyter.org/github/LukaAvbreht/Social_graphs/blob/master/project/data_creator.ipynb)\n",
    "\n",
    "### 2: [Network Analysis](https://nbviewer.jupyter.org/github/LukaAvbreht/Social_graphs/blob/master/project/network_analysis.ipynb)\n",
    "\n",
    "\n",
    "### 3: [Text Analysis]()\n",
    "\n"
   ]
  },
  {
   "cell_type": "markdown",
   "metadata": {},
   "source": [
    "### Discussion\n",
    "#### What went well\n",
    "We did manage to do all the network analysis we wanted to do. We got some insights into the communities of the directors and we did find the most central directors. However the results were not super surprising. The word clouds did turn out quite interesting and it was nice to see for example some of the words that you woulds assosiate with a director turning up their wordcloud (e.g. indy for Steven Spielberg). TODO some interesting results from sentiment analysis?\n",
    "\n",
    "#### What could be improved?\n",
    "It might have given us different results if we had worked on the entire dataset of 45.000 movies."
   ]
  },
  {
   "cell_type": "markdown",
   "metadata": {},
   "source": [
    "### Contributions\n",
    "\n",
    "We mainly split the work into three parts: network analysis, word clouds and sentiment analysis and were each resposible for one of these parts.\n",
    "\n",
    "- Network analysis: Marita \n",
    "- Wordclouds: Tanguy\n",
    "- Sentiment Analysis: Luka "
   ]
  },
  {
   "cell_type": "code",
   "execution_count": null,
   "metadata": {},
   "outputs": [],
   "source": []
  }
 ],
 "metadata": {
  "kernelspec": {
   "display_name": "Python 3",
   "language": "python",
   "name": "python3"
  },
  "language_info": {
   "codemirror_mode": {
    "name": "ipython",
    "version": 3
   },
   "file_extension": ".py",
   "mimetype": "text/x-python",
   "name": "python",
   "nbconvert_exporter": "python",
   "pygments_lexer": "ipython3",
   "version": "3.7.3"
  }
 },
 "nbformat": 4,
 "nbformat_minor": 2
}
